{
  "nbformat": 4,
  "nbformat_minor": 0,
  "metadata": {
    "colab": {
      "name": "CaryBBall.ipynb",
      "provenance": [],
      "collapsed_sections": [],
      "include_colab_link": true
    },
    "kernelspec": {
      "name": "python3",
      "display_name": "Python 3"
    }
  },
  "cells": [
    {
      "cell_type": "markdown",
      "metadata": {
        "id": "view-in-github",
        "colab_type": "text"
      },
      "source": [
        "<a href=\"https://colab.research.google.com/github/kalebr/carybball/blob/master/CaryBBall.ipynb\" target=\"_parent\"><img src=\"https://colab.research.google.com/assets/colab-badge.svg\" alt=\"Open In Colab\"/></a>"
      ]
    },
    {
      "cell_type": "code",
      "metadata": {
        "id": "idtOFHb1fCCf",
        "colab_type": "code",
        "cellView": "form",
        "colab": {}
      },
      "source": [
        "#@title\n",
        "import requests\n",
        "import urllib.request\n",
        "import time\n",
        "from bs4 import BeautifulSoup\n",
        "import re\n",
        "from collections import namedtuple\n",
        "\n",
        "# download the table of scores\n",
        "schedule_url = \"https://www.teamsideline.com/sites/cary/schedule/274051/Youth-Basketball-Boys-11-12-West\"\n",
        "response = requests.get(schedule_url)\n",
        "soup = BeautifulSoup(response.text, \"html.parser\")\n",
        "\n",
        "# parse data\n",
        "table = soup.find(\"table\", {\"id\": \"ctl00_ContentPlaceHolder1_ScheduleGrid_ctl00\"})\n",
        "rows = table.findAll(\"tr\")\n",
        "\n",
        "# t1 is home team, t2 is away team\n",
        "Game = namedtuple('Game', 'weeknum, gamenum, team1, team2')\n",
        "Team = namedtuple('Team', 'name, score, elo, winchnc, delo')\n",
        "\n",
        "def calc_r(elo):\n",
        "  \"\"\" returns tranformed rating baed on elo\"\"\"\n",
        "  return 10.0**(elo/400.0)\n",
        "\n",
        "def calc_e(r1, r2):\n",
        "  \"\"\" return expected reult for r1 \"\"\"\n",
        "  return r1 / (r1 + r2)\n",
        "\n",
        "def calc_win_chance(helo, aelo):\n",
        "  \"\"\" return home win chance\"\"\"\n",
        "  return round(1 / (1 + (10**((helo-aelo)/400.0))), 2)\n",
        "\n",
        "def calc_mov_mod(helo, aelo, hcore, acore):\n",
        "  n = (abs(hcore - acore) + 3.0)**.8\n",
        "  dh = 7.5 + (.006* (helo-aelo))\n",
        "  da = 7.5 + (.006* (aelo-helo))\n",
        "\n",
        "  return n/dh, n/da\n",
        "\n",
        "def parseGame(r, use_mov):\n",
        "  \"\"\" take row of data, calculate and print reult \"\"\"\n",
        "  global gamenum\n",
        "  global weeknum\n",
        "\n",
        "  try:\n",
        "    if \"rgGroupHeader\" in r.get(\"class\"):\n",
        "      weeknum = int((r.find(\"p\").text.split(\" \")[1]))\n",
        "      gamenum = 0\n",
        "  except:\n",
        "    pass\n",
        "\n",
        "\n",
        "  # if row i not a game, skip\n",
        "  if not r.find(\"span\", {\"id\":re.compile('HomeLabel')}):\n",
        "    return\n",
        "  \n",
        "  # get relevant field from data row\n",
        "  home_team = r.find(\"span\", {\"id\":re.compile('HomeLabel')}).text\n",
        "  home_team_score = r.find(\"span\", {\"id\":re.compile('HomeScoreLabel')}).text\n",
        "  away_team = r.find(\"span\", {\"id\":re.compile('AwayLabel')}).text\n",
        "  away_team_score = r.find(\"span\", {\"id\":re.compile('AwayScoreLabel')}).text\n",
        "\n",
        "  # if game han't been played yet, skip\n",
        "  if home_team_score == \"\":\n",
        "    return\n",
        "\n",
        "  gamenum += 1\n",
        "\n",
        "  # core hould be int \n",
        "  home_team_score = int(home_team_score)\n",
        "  away_team_score = int(away_team_score)\n",
        "  \n",
        "  # get elo or et up new team\n",
        "  home_team_elo = 1500\n",
        "  if home_team in teams:\n",
        "    home_team_elo = teams[home_team]\n",
        "  else:\n",
        "    teams[home_team] = home_team_elo\n",
        "\n",
        "  away_team_elo = 1500\n",
        "  if away_team in teams:\n",
        "    away_team_elo = teams[away_team]\n",
        "  else:\n",
        "    teams[away_team] = away_team_elo\n",
        "  \n",
        "  # calculate r'\n",
        "  rh = calc_r(home_team_elo)\n",
        "  ra = calc_r(away_team_elo)\n",
        "\n",
        "  # calculate e'\n",
        "  eh = calc_e(rh, ra)\n",
        "  ea = calc_e(ra, rh)\n",
        "\n",
        "  # determine winner and set ', assume home team won, else change it\n",
        "  sh = 1 if home_team_score > away_team_score else 0\n",
        "  sa = 1 if home_team_score < away_team_score else 0\n",
        "\n",
        "  # calculate win chance baed on current elo\n",
        "  home_win_chnc = calc_win_chance(away_team_elo, home_team_elo)\n",
        "  away_win_chnc = 1 - home_win_chnc\n",
        "\n",
        "  # calculate margin of victory mod baed on 538' formulate\n",
        "  hwinmod = 1\n",
        "  awinmod = 1\n",
        "  if use_mov:\n",
        "    hwinmod, awinmod = calc_mov_mod(home_team_elo, away_team_elo, home_team_score, \n",
        "                                  away_team_score)\n",
        "\n",
        "  # set new elo\n",
        "  home_elo_new = int(home_team_elo + ((k*(sh-eh)) * hwinmod))\n",
        "  away_elo_new = int(away_team_elo + ((k*(sa-ea)) * awinmod))\n",
        "  \n",
        "  teams[home_team] = home_elo_new\n",
        "  teams[away_team] = away_elo_new\n",
        "\n",
        "  # add game to games list\n",
        "  hometeam = Team(home_team, home_team_score, home_team_elo, home_win_chnc, home_elo_new - home_team_elo)\n",
        "  awayteam = Team(away_team, away_team_score, away_team_elo, away_win_chnc, away_elo_new - away_team_elo)\n",
        "  games.append(Game(weeknum, gamenum, hometeam, awayteam)) \n",
        "\n",
        "def print_game_info(g):\n",
        "  try:\n",
        "    win_team = g.team1 if g.team1.score > g.team2.score else g.team2\n",
        "    lose_team = g.team2 if g.team1.score > g.team2.score else g.team1\n",
        "    # print(win_team.name, win_team.score, lose_team.name, lose_team.score)\n",
        "    print( \n",
        "        f'{g.weeknum:4} '\n",
        "        f'{g.gamenum:4} '\n",
        "        f'  '\n",
        "        f'{win_team.name:12.10} '\n",
        "        f'{win_team.score:2d} '\n",
        "        f'{win_team.elo} '\n",
        "        f'{win_team.winchnc:5.2f} '\n",
        "        f'{win_team.delo:5d} '\n",
        "        f'  '\n",
        "        f'{lose_team.name:12.10} '\n",
        "        f'{lose_team.score:2d} '\n",
        "        f'{lose_team.elo} '\n",
        "        f'{lose_team.winchnc:5.2f} '\n",
        "        f'{lose_team.delo:5d}'\n",
        "    )\n",
        "  except:\n",
        "    print(\"ERROR!!!!\")\n",
        "    print(g)\n",
        "\n",
        "def print_headers():\n",
        "  print()\n",
        "  print(\"Week Game   WTeam    WScore WElo WChnc WdElo   LTeam    LScore LElo LChnc LdElo\")\n",
        "\n",
        "def print_elo_rank():\n",
        "  # print rankings by ELO\n",
        "  print()\n",
        "  print(\"--- ELO ---\")\n",
        "  i = 1\n",
        "  for k, v in sorted(teams.items(), key=lambda x: x[1], reverse=True):\n",
        "    print(i, \". \", k, round(v))\n",
        "    i += 1\n"
      ],
      "execution_count": 0,
      "outputs": []
    },
    {
      "cell_type": "code",
      "metadata": {
        "id": "vvlayi0vc6gZ",
        "colab_type": "code",
        "cellView": "form",
        "colab": {}
      },
      "source": [
        "#@title\n",
        "# do all the calculations and create the game instances\n",
        "teams = {}\n",
        "k = 40.0\n",
        "use_mov = True\n",
        "games = []\n",
        "weeknum = 0\n",
        "gamenum = 0\n",
        "\n",
        "\n",
        "# parse results of each game\n",
        "for r in rows:\n",
        "  parseGame(r, use_mov)\n"
      ],
      "execution_count": 0,
      "outputs": []
    },
    {
      "cell_type": "code",
      "metadata": {
        "id": "evncp_QVJbwm",
        "colab_type": "code",
        "cellView": "form",
        "outputId": "7e4dd755-384c-441a-ab09-43c991a90319",
        "colab": {
          "base_uri": "https://localhost:8080/",
          "height": 381
        }
      },
      "source": [
        "#@title\n",
        "# print elo rankings\n",
        "print_elo_rank()"
      ],
      "execution_count": 0,
      "outputs": [
        {
          "output_type": "stream",
          "text": [
            "\n",
            "--- ELO ---\n",
            "1 .  Paladins 1633\n",
            "2 .  Skyhawks 1622\n",
            "3 .  Longhorns 1621\n",
            "4 .  Huskies 1581\n",
            "5 .  Monarchs 1555\n",
            "6 .  Sun Devils 1548\n",
            "7 .  Spiders 1545\n",
            "8 .  Racers 1524\n",
            "9 .  Buccaneers 1506\n",
            "10 .  Nittany Lions 1500\n",
            "11 .  Blue Raiders 1476\n",
            "12 .  Thundering Herd 1466\n",
            "13 .  Hokies 1458\n",
            "14 .  Wolverines 1423\n",
            "15 .  Ducks 1396\n",
            "16 .  Hawkeyes 1357\n",
            "17 .  Gauchos 1336\n",
            "18 .  Roadrunners 1335\n"
          ],
          "name": "stdout"
        }
      ]
    },
    {
      "cell_type": "code",
      "metadata": {
        "id": "RknzgkPYiI5h",
        "colab_type": "code",
        "cellView": "form",
        "outputId": "0bdaa5dd-be53-4426-cb10-3c2e0119deed",
        "colab": {
          "base_uri": "https://localhost:8080/",
          "height": 1000
        }
      },
      "source": [
        "#@title\n",
        "# print all games in order\n",
        "print( \"*** ALL GAMES ***\")\n",
        "print_headers()\n",
        "for g in games:\n",
        "  print_game_info(g)"
      ],
      "execution_count": 0,
      "outputs": [
        {
          "output_type": "stream",
          "text": [
            "*** ALL GAMES ***\n",
            "\n",
            "Week Game   WTeam    WScore WElo WChnc WdElo   LTeam    LScore LElo LChnc LdElo\n",
            "   1    1   Spiders      40 1500  0.50    39   Hawkeyes     14 1500  0.50   -40\n",
            "   1    2   Sun Devils   38 1500  0.50    40   Roadrunner   11 1500  0.50   -41\n",
            "   1    3   Skyhawks     31 1500  0.50    28   Blue Raide   15 1500  0.50   -29\n",
            "   1    4   Huskies      39 1500  0.50    28   Hokies       23 1500  0.50   -29\n",
            "   1    5   Thundering   26 1500  0.50     8   Buccaneers   25 1500  0.50    -9\n",
            "   1    6   Paladins     37 1500  0.50    23   Racers       25 1500  0.50   -24\n",
            "   1    7   Longhorns    42 1500  0.50    47   Gauchos       8 1500  0.50   -48\n",
            "   1    8   Wolverines   28 1500  0.50    20   Ducks        18 1500  0.50   -21\n",
            "   1    9   Nittany Li   43 1500  0.50    33   Monarchs     22 1500  0.50   -34\n",
            "   2    1   Hokies       26 1471  0.52    23   Roadrunner   13 1459  0.48   -24\n",
            "   2    2   Blue Raide   28 1471  0.40    12   Spiders      26 1539  0.60   -11\n",
            "   2    3   Sun Devils   35 1540  0.61    14   Hawkeyes     26 1460  0.39   -17\n",
            "   2    4   Skyhawks     17 1528  0.55     9   Buccaneers   14 1491  0.45   -11\n",
            "   2    5   Paladins     32 1523  0.49     8   Huskies      31 1528  0.51    -9\n",
            "   2    6   Monarchs     39 1466  0.44    49   Thundering   10 1508  0.56   -47\n",
            "   2    7   Racers       48 1476  0.50    49   Ducks        13 1479  0.50   -50\n",
            "   2    8   Longhorns    36 1547  0.52    32   Nittany Li   15 1533  0.48   -33\n",
            "   2    9   Wolverines   30 1520  0.60    22   Gauchos      13 1452  0.40   -25\n",
            "   2   10   Skyhawks     31 1537  0.53    26   Monarchs     14 1515  0.47   -28\n",
            "   2   11   Huskies      56 1519  0.63    36   Ducks        18 1429  0.37   -42\n",
            "   2   12   Spiders      29 1528  0.57    12   Buccaneers   23 1480  0.43   -14\n",
            "   2   13   Blue Raide   47 1483  0.56    28   Hawkeyes     27 1443  0.44   -30\n",
            "   2   14   Sun Devils   24 1554  0.59    12   Hokies       18 1494  0.41   -14\n",
            "   2   15   Nittany Li   32 1500  0.44    11   Wolverines   30 1542  0.56   -11\n",
            "   2   16   Longhorns    29 1579  0.66     8   Thundering   24 1461  0.34   -11\n",
            "   2   17   Paladins     28 1531  0.63    18   Roadrunner   13 1435  0.37   -22\n",
            "   2   18   Racers       35 1525  0.64    21   Gauchos      16 1427  0.36   -25\n",
            "   3    1   Racers       30 1546  0.55    27   Nittany Li   11 1511  0.45   -30\n",
            "   3    2   Ducks        35 1387  0.46    38   Roadrunner   13 1413  0.54   -37\n",
            "   3    3   Paladins     47 1549  0.48    45   Sun Devils   18 1566  0.52   -45\n",
            "   3    4   Monarchs     43 1487  0.42    23   Spiders      34 1540  0.58   -22\n",
            "   3    5   Longhorns    26 1587  0.53    18   Skyhawks     16 1563  0.47   -20\n",
            "   3    6   Huskies      38 1555  0.71    20   Gauchos      12 1402  0.29   -27\n",
            "   3    7   Thundering   22 1450  0.39    27   Wolverines   12 1531  0.61   -24\n",
            "   3    8   Hokies       23 1480  0.60    15   Hawkeyes     13 1413  0.40   -18\n",
            "   3    9   Buccaneers   16 1466  0.44    13   Blue Raide   13 1511  0.56   -13\n",
            "   3   10   Sun Devils   48 1521  0.63    31   Ducks        16 1425  0.37   -37\n",
            "   3   11   Skyhawks     34 1543  0.55    29   Wolverines   13 1507  0.45   -32\n",
            "   3   12   Paladins     44 1594  0.64    20   Hokies       26 1495  0.36   -24\n",
            "   3   13   Longhorns    41 1605  0.62    20   Spiders      24 1518  0.38   -24\n",
            "   3   14   Roadrunner   17 1376  0.50    14   Gauchos      12 1375  0.50   -15\n",
            "   3   15   Buccaneers   24 1479  0.62    15   Hawkeyes     13 1395  0.38   -19\n",
            "   3   16   Monarchs     30 1510  0.52    34   Blue Raide    7 1498  0.48   -36\n",
            "   3   17   Huskies      46 1575  0.63    20   Nittany Li   29 1481  0.37   -24\n",
            "   3   18   Racers       34 1573  0.63     9   Thundering   29 1477  0.37   -12\n",
            "   4    1   Huskies      32 1595  0.68    10   Thundering   24 1465  0.32   -14\n",
            "   4    2   Monarchs     24 1544  0.57     6   Buccaneers   23 1494  0.43    -8\n",
            "   4    3   Longhorns    24 1625  0.72    12   Blue Raide   11 1462  0.28   -16\n",
            "   4    4   Nittany Li   44 1457  0.60    31   Roadrunner   16 1390  0.40   -36\n",
            "   4    5   Skyhawks     31 1572  0.49    27   Racers       16 1582  0.51   -28\n",
            "   4    6   Ducks        37 1388  0.38    25   Hokies       28 1471  0.62   -23\n",
            "   4    7   Spiders      30 1494  0.53    20   Wolverines   19 1475  0.47   -22\n",
            "   4    8   Paladins     31 1614  0.80     7   Hawkeyes     21 1376  0.20   -11\n",
            "   4    9   Sun Devils   38 1552  0.75     7   Gauchos      30 1360  0.25   -11\n",
            "   5    1   Paladins     34 1621  0.77    12   Ducks        16 1413  0.23   -17\n",
            "   5    2   Buccaneers   29 1486  0.30    20   Longhorns    25 1637  0.70   -16\n",
            "   5    3   Thundering   20 1451  0.64    15   Roadrunner    8 1354  0.36   -19\n",
            "   5    4   Hokies       23 1448  0.64    10   Gauchos      17 1349  0.36   -13\n",
            "   5    5   Blue Raide   34 1446  0.49    30   Wolverines   17 1453  0.51   -30\n",
            "   5    6   Nittany Li   47 1488  0.40    12   Sun Devils   45 1559  0.60   -11\n",
            "   5    7   Monarchs     22 1550  0.74     5   Hawkeyes     18 1365  0.26    -8\n",
            "   5    8   Spiders      44 1514  0.44    31   Racers       29 1554  0.56   -30\n",
            "   5    9   Skyhawks     34 1599  0.49    23   Huskies      22 1605  0.51   -24\n"
          ],
          "name": "stdout"
        },
        {
          "output_type": "execute_result",
          "data": {
            "text/plain": [
              "{'tags': ['hide_input']}"
            ]
          },
          "metadata": {
            "tags": []
          },
          "execution_count": 9
        }
      ]
    },
    {
      "cell_type": "code",
      "metadata": {
        "id": "-4qTs4FliYLc",
        "colab_type": "code",
        "cellView": "form",
        "outputId": "755c0eeb-8d68-44d9-a98e-72b9062c4b02",
        "colab": {
          "base_uri": "https://localhost:8080/",
          "height": 254
        }
      },
      "source": [
        "#@title\n",
        "# print highest games with highest scores\n",
        "print(\"*** HIGHEST SCORES ***\")\n",
        "print_headers()\n",
        "for g in sorted(games, key=lambda x: max(x.team1.score, x.team2.score), reverse=True)[0:10]:\n",
        "  print_game_info(g)"
      ],
      "execution_count": 0,
      "outputs": [
        {
          "output_type": "stream",
          "text": [
            "*** HIGHEST SCORES ***\n",
            "\n",
            "Week Game   WTeam    WScore WElo WChnc WdElo   LTeam    LScore LElo LChnc LdElo\n",
            "   2   11   Huskies      56 1519  0.63    36   Ducks        18 1429  0.37   -42\n",
            "   2    7   Racers       48 1476  0.50    49   Ducks        13 1479  0.50   -50\n",
            "   3   10   Sun Devils   48 1521  0.63    31   Ducks        16 1425  0.37   -37\n",
            "   2   13   Blue Raide   47 1483  0.56    28   Hawkeyes     27 1443  0.44   -30\n",
            "   3    3   Paladins     47 1549  0.48    45   Sun Devils   18 1566  0.52   -45\n",
            "   5    6   Nittany Li   47 1488  0.40    12   Sun Devils   45 1559  0.60   -11\n",
            "   3   17   Huskies      46 1575  0.63    20   Nittany Li   29 1481  0.37   -24\n",
            "   3   12   Paladins     44 1594  0.64    20   Hokies       26 1495  0.36   -24\n",
            "   4    4   Nittany Li   44 1457  0.60    31   Roadrunner   16 1390  0.40   -36\n",
            "   5    8   Spiders      44 1514  0.44    31   Racers       29 1554  0.56   -30\n"
          ],
          "name": "stdout"
        }
      ]
    },
    {
      "cell_type": "code",
      "metadata": {
        "id": "IArlvs4CWf6l",
        "colab_type": "code",
        "cellView": "form",
        "outputId": "b52dbd21-1bbf-4dc0-ada6-190b139e5ee8",
        "colab": {
          "base_uri": "https://localhost:8080/",
          "height": 254
        }
      },
      "source": [
        "#@title\n",
        "# Lowest Scores\n",
        "print(\"*** LOWEST SCORES*** \")\n",
        "print_headers()\n",
        "for g in sorted(games, key=lambda x: min(x.team1.score, x.team2.score))[0:10]:\n",
        "  print_game_info(g)"
      ],
      "execution_count": 0,
      "outputs": [
        {
          "output_type": "stream",
          "text": [
            "*** LOWEST SCORES*** \n",
            "\n",
            "Week Game   WTeam    WScore WElo WChnc WdElo   LTeam    LScore LElo LChnc LdElo\n",
            "   3   16   Monarchs     30 1510  0.52    34   Blue Raide    7 1498  0.48   -36\n",
            "   1    7   Longhorns    42 1500  0.50    47   Gauchos       8 1500  0.50   -48\n",
            "   5    3   Thundering   20 1451  0.64    15   Roadrunner    8 1354  0.36   -19\n",
            "   2    6   Monarchs     39 1466  0.44    49   Thundering   10 1508  0.56   -47\n",
            "   1    2   Sun Devils   38 1500  0.50    40   Roadrunner   11 1500  0.50   -41\n",
            "   3    1   Racers       30 1546  0.55    27   Nittany Li   11 1511  0.45   -30\n",
            "   4    3   Longhorns    24 1625  0.72    12   Blue Raide   11 1462  0.28   -16\n",
            "   3    6   Huskies      38 1555  0.71    20   Gauchos      12 1402  0.29   -27\n",
            "   3    7   Thundering   22 1450  0.39    27   Wolverines   12 1531  0.61   -24\n",
            "   3   14   Roadrunner   17 1376  0.50    14   Gauchos      12 1375  0.50   -15\n"
          ],
          "name": "stdout"
        }
      ]
    },
    {
      "cell_type": "code",
      "metadata": {
        "id": "7j8bh_uokzpo",
        "colab_type": "code",
        "cellView": "form",
        "outputId": "48749599-5bdb-4dcd-97ea-9a23d4e18187",
        "colab": {
          "base_uri": "https://localhost:8080/",
          "height": 254
        }
      },
      "source": [
        "#@title\n",
        "print(\" *** UPSETS ***\")\n",
        "print_headers()\n",
        "upset_threshold = .45\n",
        "f = list(filter(lambda x: ((x.team1.score > x.team2.score) and (x.team1.winchnc < upset_threshold))\n",
        "                        or ((x.team2.score > x.team1.score) and (x.team2.winchnc < upset_threshold)), games))\n",
        "for g in sorted(f, key=lambda x: min(x.team1.winchnc, x.team2.winchnc)):\n",
        "  print_game_info(g)"
      ],
      "execution_count": 0,
      "outputs": [
        {
          "output_type": "stream",
          "text": [
            " *** UPSETS ***\n",
            "\n",
            "Week Game   WTeam    WScore WElo WChnc WdElo   LTeam    LScore LElo LChnc LdElo\n",
            "   5    2   Buccaneers   29 1486  0.30    20   Longhorns    25 1637  0.70   -16\n",
            "   4    6   Ducks        37 1388  0.38    25   Hokies       28 1471  0.62   -23\n",
            "   3    7   Thundering   22 1450  0.39    27   Wolverines   12 1531  0.61   -24\n",
            "   2    2   Blue Raide   28 1471  0.40    12   Spiders      26 1539  0.60   -11\n",
            "   5    6   Nittany Li   47 1488  0.40    12   Sun Devils   45 1559  0.60   -11\n",
            "   3    4   Monarchs     43 1487  0.42    23   Spiders      34 1540  0.58   -22\n",
            "   2    6   Monarchs     39 1466  0.44    49   Thundering   10 1508  0.56   -47\n",
            "   2   15   Nittany Li   32 1500  0.44    11   Wolverines   30 1542  0.56   -11\n",
            "   5    8   Spiders      44 1514  0.44    31   Racers       29 1554  0.56   -30\n",
            "   3    9   Buccaneers   16 1466  0.44    13   Blue Raide   13 1511  0.56   -13\n"
          ],
          "name": "stdout"
        }
      ]
    },
    {
      "cell_type": "code",
      "metadata": {
        "id": "3VOoBMxllxzY",
        "colab_type": "code",
        "cellView": "form",
        "outputId": "c5cab662-9508-4833-faec-6ef153e9a26a",
        "colab": {
          "base_uri": "https://localhost:8080/",
          "height": 199
        }
      },
      "source": [
        "#@title\n",
        "print(\" *** ELO HISTORY ***\")\n",
        "print_headers()\n",
        "team = \"Buccaneers\"\n",
        "for g in list(filter(lambda x: x.team1.name == team or x.team2.name == team, games)):\n",
        "  print_game_info(g)"
      ],
      "execution_count": 0,
      "outputs": [
        {
          "output_type": "stream",
          "text": [
            " *** ELO HISTORY ***\n",
            "\n",
            "Week Game   WTeam    WScore WElo WChnc WdElo   LTeam    LScore LElo LChnc LdElo\n",
            "   1    5   Thundering   26 1500  0.50     8   Buccaneers   25 1500  0.50    -9\n",
            "   2    4   Skyhawks     17 1528  0.55     9   Buccaneers   14 1491  0.45   -11\n",
            "   2   12   Spiders      29 1528  0.57    12   Buccaneers   23 1480  0.43   -14\n",
            "   3    9   Buccaneers   16 1466  0.44    13   Blue Raide   13 1511  0.56   -13\n",
            "   3   15   Buccaneers   24 1479  0.62    15   Hawkeyes     13 1395  0.38   -19\n",
            "   4    2   Monarchs     24 1544  0.57     6   Buccaneers   23 1494  0.43    -8\n",
            "   5    2   Buccaneers   29 1486  0.30    20   Longhorns    25 1637  0.70   -16\n"
          ],
          "name": "stdout"
        }
      ]
    }
  ]
}